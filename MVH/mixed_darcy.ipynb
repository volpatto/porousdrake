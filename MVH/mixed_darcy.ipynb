{
 "cells": [
  {
   "cell_type": "markdown",
   "metadata": {},
   "source": [
    "# Hughes stabilized mixed finite element method for Darcy flow\n",
    "---"
   ]
  },
  {
   "cell_type": "code",
   "execution_count": 1,
   "metadata": {},
   "outputs": [],
   "source": [
    "from firedrake import *\n",
    "import numpy as np\n",
    "import random\n",
    "try:\n",
    "    import matplotlib.pyplot as plt\n",
    "except:\n",
    "    warning(\"Matplotlib not imported\")"
   ]
  },
  {
   "cell_type": "markdown",
   "metadata": {},
   "source": [
    "## Create a mesh"
   ]
  },
  {
   "cell_type": "code",
   "execution_count": 2,
   "metadata": {},
   "outputs": [
    {
     "data": {
      "image/png": "[encoded data removed]",
      "text/plain": [
       "<Figure size 432x288 with 1 Axes>"
      ]
     },
     "metadata": {
      "needs_background": "light"
     },
     "output_type": "display_data"
    }
   ],
   "source": [
    "nx, ny = 10, 10\n",
    "Lx, Ly = 1.0, 1.0\n",
    "mesh = RectangleMesh(nx, ny, Lx, Ly, quadrilateral=True)\n",
    "plot(mesh)\n",
    "plt.axis('off')\n",
    "plt.show()"
   ]
  },
  {
   "cell_type": "markdown",
   "metadata": {},
   "source": [
    "## Function spaces"
   ]
  },
  {
   "cell_type": "code",
   "execution_count": 3,
   "metadata": {},
   "outputs": [],
   "source": [
    "degree = 1\n",
    "velSpace = VectorFunctionSpace(mesh, 'CG', degree)\n",
    "pSpace = FunctionSpace(mesh, 'CG', degree)\n",
    "wSpace = MixedFunctionSpace([velSpace, pSpace])\n",
    "\n",
    "kSpace = FunctionSpace(mesh, \"DG\", 0)"
   ]
  },
  {
   "cell_type": "markdown",
   "metadata": {},
   "source": [
    "## Defining trial and test functions"
   ]
  },
  {
   "cell_type": "code",
   "execution_count": 4,
   "metadata": {},
   "outputs": [],
   "source": [
    "(v, p) = TrialFunctions(wSpace)\n",
    "(w, q) = TestFunctions(wSpace)\n",
    "solution = Function(wSpace)\n",
    "n = FacetNormal(mesh)"
   ]
  },
  {
   "cell_type": "markdown",
   "metadata": {},
   "source": [
    "## Source term"
   ]
  },
  {
   "cell_type": "code",
   "execution_count": 5,
   "metadata": {},
   "outputs": [],
   "source": [
    "class f_0(Expression):\n",
    "    def eval(self, values, x):\n",
    "        values[0] = sin(2. * pi * x[0] / Lx) * sin(2.* pi * x[1] / Ly)"
   ]
  },
  {
   "cell_type": "code",
   "execution_count": 18,
   "metadata": {},
   "outputs": [
    {
     "name": "stdout",
     "output_type": "stream",
     "text": [
      "121\n"
     ]
    },
    {
     "data": {
      "image/png": "[encoded data removed]",
      "text/plain": [
       "<Figure size 432x288 with 2 Axes>"
      ]
     },
     "metadata": {
      "needs_background": "light"
     },
     "output_type": "display_data"
    }
   ],
   "source": [
    "x = SpatialCoordinate(mesh)\n",
    "V_a = FunctionSpace(mesh, \"CG\", degree + 3)\n",
    "U_a = VectorFunctionSpace(mesh, \"CG\", degree + 3)\n",
    "\n",
    "u_a = Function(V_a, name=\"Analytic Scalar\")\n",
    "a_scalar = sin(2. * pi * x[0]) / Lx * sin(2.* pi * x[1]) / Ly\n",
    "# u_a.interpolate(a_scalar)\n",
    "\n",
    "# f = Function(pSpace).interpolate(-div(grad(a_scalar)))\n",
    "\n",
    "q_a = Function(U_a, name=\"Analytic Flux\")\n",
    "a_flux = -grad(a_scalar)\n",
    "\n",
    "f = interpolate(f_0(), pSpace)\n",
    "f_v = interpolate(a_flux, velSpace)\n",
    "\n",
    "# f1 = Function(pSpace).interpolate(-div(grad(conc_k)))\n",
    "\n",
    "# print(conc_v.dof_dset)\n",
    "\n",
    "print(f.dof_dset.set.size)\n",
    "# q_a.project(a_flux)\n",
    "\n",
    "# return a_scalar, a_flux, u_a, q_a\n",
    "plot(f)\n",
    "plt.show()"
   ]
  },
  {
   "cell_type": "markdown",
   "metadata": {},
   "source": [
    "## Boundary condition"
   ]
  },
  {
   "cell_type": "code",
   "execution_count": 7,
   "metadata": {},
   "outputs": [],
   "source": [
    "bcDPP = []"
   ]
  },
  {
   "cell_type": "code",
   "execution_count": 8,
   "metadata": {},
   "outputs": [],
   "source": [
    "p_bound = Constant(0.0)\n",
    "bcall = DirichletBC(pSpace, p_bound, 1, method = 'geometric')\n",
    "bcDarcy = [bcall]"
   ]
  },
  {
   "cell_type": "markdown",
   "metadata": {},
   "source": [
    "## Physical parameters"
   ]
  },
  {
   "cell_type": "code",
   "execution_count": 9,
   "metadata": {},
   "outputs": [],
   "source": [
    "K = Constant(1.0)\n",
    "K_inv = inv(K)"
   ]
  },
  {
   "cell_type": "markdown",
   "metadata": {},
   "source": [
    "## Variational form"
   ]
  },
  {
   "cell_type": "code",
   "execution_count": 10,
   "metadata": {},
   "outputs": [],
   "source": [
    "B = inner(K_inv * v, w) * dx + \\\n",
    "    - div(w) * p * dx + div(v) * q * dx  \\\n",
    "\n",
    "B_stab = 0.5 * inner(K_inv * (K * v + grad(p)), - K_inv * w + grad(q)) * dx"
   ]
  },
  {
   "cell_type": "code",
   "execution_count": 11,
   "metadata": {},
   "outputs": [],
   "source": [
    "LHS = B + B_stab"
   ]
  },
  {
   "cell_type": "code",
   "execution_count": 12,
   "metadata": {},
   "outputs": [],
   "source": [
    "rhob = Constant((0.0, 0.0))"
   ]
  },
  {
   "cell_type": "code",
   "execution_count": 14,
   "metadata": {},
   "outputs": [],
   "source": [
    "L = - dot(w, rhob) * dx + q * f * dx + Constant(0.0) * dot(w, n) * ds"
   ]
  },
  {
   "cell_type": "code",
   "execution_count": 15,
   "metadata": {},
   "outputs": [],
   "source": [
    "L_stab = - 0.5 * inner(K * rhob, - K_inv * w + grad(q)) * dx"
   ]
  },
  {
   "cell_type": "code",
   "execution_count": 16,
   "metadata": {},
   "outputs": [],
   "source": [
    "RHS = L + L_stab"
   ]
  },
  {
   "cell_type": "code",
   "execution_count": null,
   "metadata": {},
   "outputs": [],
   "source": []
  }
 ],
 "metadata": {
  "kernelspec": {
   "display_name": "firedrake",
   "language": "python",
   "name": "firedrake"
  },
  "language_info": {
   "codemirror_mode": {
    "name": "ipython",
    "version": 3
   },
   "file_extension": ".py",
   "mimetype": "text/x-python",
   "name": "python",
   "nbconvert_exporter": "python",
   "pygments_lexer": "ipython3",
   "version": "3.6.6"
  }
 },
 "nbformat": 4,
 "nbformat_minor": 2
}
